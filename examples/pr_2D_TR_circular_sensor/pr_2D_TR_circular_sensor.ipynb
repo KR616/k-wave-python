{
 "cells": [
  {
   "cell_type": "markdown",
   "metadata": {},
   "source": [
    "\n",
    "# Using An Ultrasound Transducer As A Sensor Example\n",
    "\n",
    "This example shows how an ultrasound transducer can be used as a detector\n",
    "by substituting a transducer object for the normal sensor input\n",
    "structure. It builds on the Defining An Ultrasound Transducer and\n",
    "Simulating Ultrasound Beam Patterns examples."
   ]
  },
  {
   "cell_type": "code",
   "execution_count": null,
   "metadata": {},
   "outputs": [],
   "source": [
    "import numpy as np\n",
    "\n",
    "# noinspection PyUnresolvedReferences\n",
    "from kwave.data import Vector\n",
    "from kwave.kgrid import kWaveGrid\n",
    "from kwave.kmedium import kWaveMedium\n",
    "from kwave.ksensor import kSensor\n",
    "from kwave.ksource import kSource\n",
    "from kwave.kspaceFirstOrder2D import kspaceFirstOrder2D\n",
    "from kwave.options.simulation_execution_options import SimulationExecutionOptions\n",
    "from kwave.options.simulation_options import SimulationOptions\n",
    "from kwave.utils.filters import smooth\n",
    "from kwave.utils.io import load_image\n",
    "from kwave.utils.mapgen import make_cart_circle\n",
    "from kwave.utils.matrix import resize"
   ]
  },
  {
   "cell_type": "code",
   "execution_count": null,
   "metadata": {},
   "outputs": [],
   "source": [
    "# assign the grid size and create the computational grid\n",
    "pml_size = Vector([20, 20])  # [grid points]\n",
    "grid_size_points = Vector([256, 256]) - 2 * pml_size  # [grid points]\n",
    "grid_size_meters = Vector([10e-3, 10e-3])  # [m]\n",
    "grid_spacing_meters = grid_size_meters / grid_size_points  # [m]\n",
    "kgrid = kWaveGrid(grid_size_points, grid_spacing_meters)"
   ]
  },
  {
   "cell_type": "code",
   "execution_count": null,
   "metadata": {},
   "outputs": [],
   "source": [
    "# load the initial pressure distribution from an image and scale\n",
    "p0_magnitude = 2\n",
    "p0 = p0_magnitude * load_image('EXAMPLE_source_two.bmp', is_gray=True)\n",
    "\n",
    "# resize the input image to the desired number of grid points\n",
    "p0 = resize(p0, grid_size_points)\n",
    "\n",
    "# smooth the initial pressure distribution and restore the magnitude\n",
    "p0 = smooth(p0, True)"
   ]
  },
  {
   "cell_type": "code",
   "execution_count": null,
   "metadata": {},
   "outputs": [],
   "source": [
    "# assign to the source structure\n",
    "source = kSource()\n",
    "source.p0 = p0"
   ]
  },
  {
   "cell_type": "code",
   "execution_count": null,
   "metadata": {},
   "outputs": [],
   "source": [
    "# define the properties of the propagation medium\n",
    "medium = kWaveMedium(sound_speed=1500)\n",
    "\n",
    "# define a centered Cartesian circular sensor\n",
    "sensor_radius = 4.5e-3              # [m]\n",
    "sensor_angle = 3 * np.pi / 2        # [rad]\n",
    "sensor_pos = Vector([0, 0])         # [m]\n",
    "num_sensor_points = 70\n",
    "cart_sensor_mask = make_cart_circle(sensor_radius, num_sensor_points, sensor_pos, sensor_angle)\n",
    "\n",
    "# assign to sensor structure\n",
    "sensor_mask = cart_sensor_mask\n",
    "sensor = kSensor(sensor_mask)\n"
   ]
  },
  {
   "cell_type": "code",
   "execution_count": null,
   "metadata": {},
   "outputs": [],
   "source": [
    "\n",
    "# create the time array\n",
    "kgrid.makeTime(medium.sound_speed)\n"
   ]
  },
  {
   "cell_type": "code",
   "execution_count": null,
   "metadata": {},
   "outputs": [],
   "source": [
    "\n",
    "# set the input settings\n",
    "simulation_options = SimulationOptions(\n",
    "    pml_inside=False,\n",
    "    pml_auto=True,\n",
    "    smooth_p0=False,\n",
    "    save_to_disk=True,\n",
    ")"
   ]
  },
  {
   "cell_type": "code",
   "execution_count": null,
   "metadata": {},
   "outputs": [],
   "source": [
    "# run the simulation\n",
    "simulation_output = kspaceFirstOrder2D(\n",
    "    medium=medium,\n",
    "    kgrid=kgrid,\n",
    "    source=source,\n",
    "    sensor=sensor,\n",
    "    simulation_options=simulation_options,\n",
    "    execution_options=SimulationExecutionOptions(is_gpu_simulation=True)\n",
    ")\n"
   ]
  },
  {
   "cell_type": "code",
   "execution_count": null,
   "metadata": {},
   "outputs": [],
   "source": [
    "sensor_data = simulation_output['p']\n",
    "sensor.time_reversal_boundary_data"
   ]
  },
  {
   "cell_type": "code",
   "execution_count": null,
   "metadata": {},
   "outputs": [],
   "source": [
    "import numpy as np\n",
    "import matplotlib.pyplot as plt\n",
    "from scipy.interpolate import griddata\n",
    "from kwave.utils.interp import interp_cart_data\n",
    "\n",
    "from kwave.utils.mapgen import make_circle\n",
    "from kwave.utils.signals import add_noise\n",
    "\n"
   ]
  },
  {
   "cell_type": "code",
   "execution_count": null,
   "metadata": {},
   "outputs": [],
   "source": [
    "\n",
    "signal_to_noise_ratio = 40  # [dB]\n",
    "\n",
    "sensor_data_with_noise = add_noise(sensor_data, signal_to_noise_ratio)\n",
    "\n",
    "\n",
    "# Creating a second computation grid for the reconstruction\n",
    "N_recon = Vector([256, 256])  \n",
    "\n",
    "grid_spacing_recon_meters = grid_size_meters / N_recon  # grid point spacing [m]\n",
    "\n",
    "kgrid_recon = kWaveGrid(N_recon, grid_spacing_meters)\n",
    "\n",
    "\n",
    "# Use the same time array for the reconstruction\n",
    "\n",
    "# Assuming setTime is a method to set the time array, and kgrid has attributes Nt and dt\n",
    "\n",
    "kgrid_recon.setTime(kgrid.Nt, kgrid.dt)\n"
   ]
  },
  {
   "cell_type": "code",
   "execution_count": null,
   "metadata": {},
   "outputs": [],
   "source": [
    "\n",
    "# Reset the initial pressure\n",
    "source.p0 = np.array([])\n",
    "\n",
    "# Assign the time reversal data\n",
    "sensor.time_reversal_boundary_data = sensor_data_with_noise\n",
    "\n",
    "# Run the time-reversal reconstruction\n",
    "p0_recon_output = kspaceFirstOrder2D(kgrid=kgrid_recon, medium=medium, source=source, sensor=sensor,\n",
    "    simulation_options=simulation_options,\n",
    "    execution_options=SimulationExecutionOptions(is_gpu_simulation=True))\n",
    "\n",
    "p0_recon = p0_recon_output['p_final']\n",
    "\n",
    "# Creating a binary sensor mask of an equivalent continuous circle\n",
    "sensor_radius_grid_points = round(sensor_radius / kgrid_recon.dx)\n"
   ]
  },
  {
   "cell_type": "code",
   "execution_count": null,
   "metadata": {},
   "outputs": [],
   "source": [
    "p0_recon.sum()"
   ]
  },
  {
   "cell_type": "code",
   "execution_count": null,
   "metadata": {},
   "outputs": [],
   "source": [
    "\n",
    "binary_sensor_mask = make_circle(grid_size = kgrid_recon.N,\n",
    "                                 center = kgrid_recon.N // 2 + 1,\n",
    "                                 radius = sensor_radius_grid_points,\n",
    "                                 arc_angle = sensor_angle)\n",
    "\n",
    "# Assign to sensor structure\n",
    "\n",
    "sensor.mask = binary_sensor_mask\n",
    "\n",
    "# Interpolate data to remove the gaps and assign to sensor structure\n",
    "# Assuming interpCartData is a function you have defined for interpolation\n",
    "sensor.time_reversal_boundary_data = interp_cart_data(kgrid_recon, sensor_data_with_noise, cart_sensor_mask, binary_sensor_mask)\n"
   ]
  },
  {
   "cell_type": "code",
   "execution_count": null,
   "metadata": {},
   "outputs": [],
   "source": [
    "\n",
    "# Run the time-reversal reconstruction again with interpolated data\n",
    "p0_recon_interp_output = kspaceFirstOrder2D(kgrid=kgrid_recon, medium=medium, source=source, sensor=sensor,\n",
    "                                         simulation_options=simulation_options,\n",
    "    execution_options=SimulationExecutionOptions(is_gpu_simulation=True, show_sim_log=True))\n",
    "\n",
    "p0_recon_interp = p0_recon_interp_output['p_final']"
   ]
  },
  {
   "cell_type": "code",
   "execution_count": null,
   "metadata": {},
   "outputs": [],
   "source": [
    "import numpy as np\n",
    "import matplotlib.pyplot as plt\n",
    "from kwave.utils.colormap import get_color_map\n",
    "%matplotlib inline\n"
   ]
  },
  {
   "cell_type": "code",
   "execution_count": null,
   "metadata": {},
   "outputs": [],
   "source": [
    "from kwave.utils.conversion import cart2grid\n",
    "\n",
    "(grid_data, _, _) = cart2grid(kgrid, cart_sensor_mask)"
   ]
  },
  {
   "cell_type": "code",
   "execution_count": null,
   "metadata": {},
   "outputs": [],
   "source": [
    "\n",
    "# Plot the initial pressure and sensor distribution\n",
    "plt.figure()\n",
    "plt.imshow(p0 + grid_data, extent=(kgrid.y_vec.min() * 1e3, kgrid.y_vec.max() * 1e3, kgrid.x_vec.min() * 1e3, kgrid.x_vec.max() * 1e3), cmap=get_color_map(), vmin=-1, vmax=1)\n",
    "plt.colorbar(label='Pressure')\n",
    "plt.ylabel('x-position [mm]')\n",
    "plt.xlabel('y-position [mm]')\n",
    "plt.title('Initial Pressure and Sensor Distribution')\n",
    "plt.axis('image')\n"
   ]
  },
  {
   "cell_type": "code",
   "execution_count": null,
   "metadata": {},
   "outputs": [],
   "source": [
    "# Plot the simulated sensor data\n",
    "plt.figure()\n",
    "plt.imshow(sensor_data, cmap=get_color_map(), aspect='auto', extent=[0, sensor_data.shape[1], 0, sensor_data.shape[0]], vmin=-1, vmax=1)\n",
    "plt.colorbar(label='Pressure')\n",
    "plt.ylabel('Sensor Position')\n",
    "plt.xlabel('Time Step')\n",
    "plt.title('Simulated Sensor Data')\n"
   ]
  },
  {
   "cell_type": "code",
   "execution_count": null,
   "metadata": {},
   "outputs": [],
   "source": []
  },
  {
   "cell_type": "code",
   "execution_count": null,
   "metadata": {},
   "outputs": [],
   "source": [
    "# Plot the reconstructed initial pressure\n",
    "plt.figure()\n",
    "plt.imshow(p0_recon, extent=(kgrid_recon.y_vec.min() * 1e3, kgrid_recon.y_vec.max() * 1e3, kgrid_recon.x_vec.min() * 1e3, kgrid_recon.x_vec.max() * 1e3), cmap=get_color_map(), vmin=-1, vmax=1)\n",
    "plt.colorbar(label='Pressure')\n",
    "plt.ylabel('x-position [mm]')\n",
    "plt.xlabel('y-position [mm]')\n",
    "plt.title('Reconstructed Initial Pressure')\n",
    "plt.axis('image')\n",
    "\n",
    "# # Plot the reconstructed initial pressure using the interpolated data\n",
    "# plt.figure()\n",
    "# plt.imshow(p0_recon_interp, extent=(kgrid_recon.y_vec.min() * 1e3, kgrid_recon.y_vec.max() * 1e3, kgrid_recon.x_vec.min() * 1e3, kgrid_recon.x_vec.max() * 1e3), cmap=get_color_map(), vmin=-1, vmax=1)\n",
    "# plt.colorbar(label='Pressure')\n",
    "# plt.ylabel('x-position [mm]')\n",
    "# plt.xlabel('y-position [mm]')\n",
    "# plt.title('Reconstructed Initial Pressure with Interpolated Data')\n",
    "# plt.axis('image')\n",
    "\n",
    "# # Plot a profile for comparison\n",
    "# slice_index = round(slice_pos / kgrid.dx)\n",
    "# slice_index_recon = round(slice_pos / kgrid_recon.dx)\n",
    "# plt.figure()\n",
    "# plt.plot(kgrid.y_vec * 1e3, p0[slice_index, :], 'k--', label='Initial Pressure')\n",
    "# plt.plot(kgrid_recon.y_vec * 1e3, p0_recon[slice_index_recon, :], 'r-', label='Point Reconstruction')\n",
    "# plt.plot(kgrid_recon.y_vec * 1e3, p0_recon_interp[slice_index_recon, :], 'b-', label='Interpolated Reconstruction')\n",
    "# plt.xlabel('y-position [mm]')\n",
    "# plt.ylabel('Pressure')\n",
    "# plt.legend()\n",
    "# plt.axis('tight')\n",
    "# plt.ylim([0, 2.1])\n",
    "# plt.title('Pressure Profile Comparison')"
   ]
  }
 ],
 "metadata": {
  "kernelspec": {
   "display_name": "k-wave-python",
   "language": "python",
   "name": "python3"
  },
  "language_info": {
   "codemirror_mode": {
    "name": "ipython",
    "version": 3
   },
   "file_extension": ".py",
   "mimetype": "text/x-python",
   "name": "python",
   "nbconvert_exporter": "python",
   "pygments_lexer": "ipython3"
  }
 },
 "nbformat": 4,
 "nbformat_minor": 2
}
